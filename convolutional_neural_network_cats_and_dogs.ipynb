{
 "cells": [
  {
   "cell_type": "markdown",
   "metadata": {
    "id": "zHTKYX8mjI3f"
   },
   "source": [
    "# Convolutional Neural Network"
   ]
  },
  {
   "cell_type": "markdown",
   "metadata": {
    "id": "8Tkmvw-Xko1Z"
   },
   "source": [
    "## Importing the libraries"
   ]
  },
  {
   "cell_type": "code",
   "execution_count": 1,
   "metadata": {
    "id": "prtxbou0kwt-"
   },
   "outputs": [],
   "source": [
    "import tensorflow as tf\n",
    "from keras.preprocessing.image import ImageDataGenerator"
   ]
  },
  {
   "cell_type": "code",
   "execution_count": 2,
   "metadata": {
    "colab": {
     "base_uri": "https://localhost:8080/",
     "height": 36
    },
    "id": "8Yhe3cBRk5MU",
    "outputId": "ef0cc44b-57f0-4af5-fcab-6ff671831e9f"
   },
   "outputs": [
    {
     "data": {
      "text/plain": [
       "'2.13.0'"
      ]
     },
     "execution_count": 2,
     "metadata": {},
     "output_type": "execute_result"
    }
   ],
   "source": [
    "tf.__version__"
   ]
  },
  {
   "cell_type": "markdown",
   "metadata": {
    "id": "15fy8BEgk9Gh"
   },
   "source": [
    "# Part 1 - Data Processing\n"
   ]
  },
  {
   "cell_type": "markdown",
   "metadata": {
    "id": "BF2lx3KI0n2N"
   },
   "source": [
    "## Preprocessing the Training set"
   ]
  },
  {
   "cell_type": "code",
   "execution_count": 3,
   "metadata": {
    "id": "UlV0sFVWl_0S"
   },
   "outputs": [
    {
     "name": "stdout",
     "output_type": "stream",
     "text": [
      "Found 8000 images belonging to 2 classes.\n"
     ]
    }
   ],
   "source": [
    "train_datagen= ImageDataGenerator(\n",
    "    rescale =1./522,\n",
    "    shear_range = 0.2,\n",
    "    zoom_range=0.2,\n",
    "    horizontal_flip=True)\n",
    "training_set = train_datagen.flow_from_directory(\n",
    "    'd:/dataset/cnn/training_set',\n",
    "    target_size=(64,64),\n",
    "    batch_size = 32,\n",
    "    class_mode='binary')"
   ]
  },
  {
   "cell_type": "markdown",
   "metadata": {
    "id": "JRjI2uCI0O81"
   },
   "source": [
    "## Preprocessing the Test set"
   ]
  },
  {
   "cell_type": "code",
   "execution_count": 4,
   "metadata": {
    "id": "qLhe5okq00Ta"
   },
   "outputs": [
    {
     "name": "stdout",
     "output_type": "stream",
     "text": [
      "Found 2000 images belonging to 2 classes.\n"
     ]
    }
   ],
   "source": [
    "test_datagen = ImageDataGenerator(rescale=1./255)\n",
    "test_set = test_datagen.flow_from_directory(\n",
    "    'd:/dataset/cnn/test_set',\n",
    "    target_size=(64,64),\n",
    "    batch_size = 32,\n",
    "    class_mode='binary'\n",
    ")\n"
   ]
  },
  {
   "cell_type": "markdown",
   "metadata": {
    "id": "KlI8xkza2hFD"
   },
   "source": [
    "# Part 2 - Building the CNN"
   ]
  },
  {
   "cell_type": "markdown",
   "metadata": {
    "id": "hZoOpVqR2kHd"
   },
   "source": [
    "## Initialising the CNN"
   ]
  },
  {
   "cell_type": "code",
   "execution_count": 5,
   "metadata": {
    "id": "z13Dtp7i2o7V"
   },
   "outputs": [],
   "source": [
    "cnn = tf.keras.models.Sequential()\n"
   ]
  },
  {
   "cell_type": "markdown",
   "metadata": {
    "id": "0T6Jy9Tu2v5r"
   },
   "source": [
    "## Step  1 - Convolution"
   ]
  },
  {
   "cell_type": "code",
   "execution_count": 9,
   "metadata": {
    "id": "tNYd05Dr20V3"
   },
   "outputs": [],
   "source": [
    "cnn.add(tf.keras.layers.Conv2D(filters=32, kernel_size=3, activation='relu', input_shape=[64,64, 3]))"
   ]
  },
  {
   "cell_type": "markdown",
   "metadata": {
    "id": "cJqzZ7z84a0Q"
   },
   "source": [
    "## Step 2 - Pooling"
   ]
  },
  {
   "cell_type": "code",
   "execution_count": 10,
   "metadata": {
    "id": "M8JCARZh4c-y"
   },
   "outputs": [],
   "source": [
    "cnn.add(tf.keras.layers.MaxPool2D(pool_size=2, strides=2))"
   ]
  },
  {
   "cell_type": "markdown",
   "metadata": {
    "id": "lj-aJsM64gwt"
   },
   "source": [
    "## Adding a second convolutional layer"
   ]
  },
  {
   "cell_type": "code",
   "execution_count": 12,
   "metadata": {
    "id": "3d1f_FES4lh8"
   },
   "outputs": [],
   "source": [
    "cnn.add(tf.keras.layers.Conv2D(filters=32, kernel_size=3, activation='relu'))\n",
    "cnn.add(tf.keras.layers.MaxPool2D(pool_size=2, strides=2))"
   ]
  },
  {
   "cell_type": "markdown",
   "metadata": {
    "id": "8kaaNLn67C0_"
   },
   "source": [
    "## Step 3 - Flattening"
   ]
  },
  {
   "cell_type": "code",
   "execution_count": 13,
   "metadata": {
    "id": "Nc_1PMDk7Gxn"
   },
   "outputs": [],
   "source": [
    "cnn.add(tf.keras.layers.Flatten())"
   ]
  },
  {
   "cell_type": "markdown",
   "metadata": {
    "id": "itYZxE6W7Xnd"
   },
   "source": [
    "## Step 4 - Full Connection"
   ]
  },
  {
   "cell_type": "code",
   "execution_count": 15,
   "metadata": {
    "id": "ERI2R69Y8au6"
   },
   "outputs": [],
   "source": [
    "cnn.add(tf.keras.layers.Dense(units = 128, activation='relu'))"
   ]
  },
  {
   "cell_type": "markdown",
   "metadata": {
    "id": "n4SjfXVF7YTi"
   },
   "source": [
    "## Step 5 - Output Layer"
   ]
  },
  {
   "cell_type": "code",
   "execution_count": 16,
   "metadata": {
    "id": "LcvcuL397hRx"
   },
   "outputs": [],
   "source": [
    "cnn.add(tf.keras.layers.Dense(units=1, activation='sigmoid'))"
   ]
  },
  {
   "cell_type": "markdown",
   "metadata": {
    "id": "_xbs99aG7YdX"
   },
   "source": [
    "# Part 3"
   ]
  },
  {
   "cell_type": "markdown",
   "metadata": {
    "id": "d5M3CbbD9udb"
   },
   "source": [
    "## Compiling the CNN"
   ]
  },
  {
   "cell_type": "code",
   "execution_count": 17,
   "metadata": {
    "id": "UJeCWQ4y9_1f"
   },
   "outputs": [],
   "source": [
    "cnn.compile(optimizer = 'adam', loss = 'binary_crossentropy', metrics= ['accuracy'])"
   ]
  },
  {
   "cell_type": "markdown",
   "metadata": {
    "id": "tQ0xvski9zKU"
   },
   "source": [
    "## Training the CNN on the Training set and evaluating it on the Test set"
   ]
  },
  {
   "cell_type": "code",
   "execution_count": 18,
   "metadata": {
    "id": "mUsxLHL5-bap"
   },
   "outputs": [
    {
     "name": "stdout",
     "output_type": "stream",
     "text": [
      "Epoch 1/25\n",
      "250/250 [==============================] - 45s 177ms/step - loss: 0.6817 - accuracy: 0.5585 - val_loss: 0.6651 - val_accuracy: 0.6490\n",
      "Epoch 2/25\n",
      "250/250 [==============================] - 39s 156ms/step - loss: 0.6157 - accuracy: 0.6672 - val_loss: 0.6560 - val_accuracy: 0.6830\n",
      "Epoch 3/25\n",
      "250/250 [==============================] - 39s 154ms/step - loss: 0.5669 - accuracy: 0.7044 - val_loss: 0.6068 - val_accuracy: 0.7120\n",
      "Epoch 4/25\n",
      "250/250 [==============================] - 40s 158ms/step - loss: 0.5318 - accuracy: 0.7325 - val_loss: 0.6607 - val_accuracy: 0.7390\n",
      "Epoch 5/25\n",
      "250/250 [==============================] - 39s 155ms/step - loss: 0.4961 - accuracy: 0.7550 - val_loss: 0.8528 - val_accuracy: 0.7085\n",
      "Epoch 6/25\n",
      "250/250 [==============================] - 39s 155ms/step - loss: 0.4860 - accuracy: 0.7667 - val_loss: 0.7379 - val_accuracy: 0.7340\n",
      "Epoch 7/25\n",
      "250/250 [==============================] - 38s 150ms/step - loss: 0.4679 - accuracy: 0.7759 - val_loss: 0.6392 - val_accuracy: 0.7405\n",
      "Epoch 8/25\n",
      "250/250 [==============================] - 37s 149ms/step - loss: 0.4568 - accuracy: 0.7801 - val_loss: 0.7430 - val_accuracy: 0.7465\n",
      "Epoch 9/25\n",
      "250/250 [==============================] - 37s 147ms/step - loss: 0.4517 - accuracy: 0.7875 - val_loss: 0.7077 - val_accuracy: 0.7410\n",
      "Epoch 10/25\n",
      "250/250 [==============================] - 37s 148ms/step - loss: 0.4277 - accuracy: 0.7945 - val_loss: 0.6077 - val_accuracy: 0.7785\n",
      "Epoch 11/25\n",
      "250/250 [==============================] - 37s 147ms/step - loss: 0.4235 - accuracy: 0.8049 - val_loss: 0.7707 - val_accuracy: 0.7540\n",
      "Epoch 12/25\n",
      "250/250 [==============================] - 36s 146ms/step - loss: 0.4131 - accuracy: 0.8092 - val_loss: 0.8691 - val_accuracy: 0.7470\n",
      "Epoch 13/25\n",
      "250/250 [==============================] - 37s 149ms/step - loss: 0.4104 - accuracy: 0.8150 - val_loss: 0.7091 - val_accuracy: 0.7710\n",
      "Epoch 14/25\n",
      "250/250 [==============================] - 38s 151ms/step - loss: 0.4028 - accuracy: 0.8086 - val_loss: 0.7314 - val_accuracy: 0.7640\n",
      "Epoch 15/25\n",
      "250/250 [==============================] - 39s 154ms/step - loss: 0.3926 - accuracy: 0.8167 - val_loss: 0.9046 - val_accuracy: 0.7430\n",
      "Epoch 16/25\n",
      "250/250 [==============================] - 38s 152ms/step - loss: 0.3891 - accuracy: 0.8200 - val_loss: 0.8675 - val_accuracy: 0.7295\n",
      "Epoch 17/25\n",
      "250/250 [==============================] - 37s 149ms/step - loss: 0.3754 - accuracy: 0.8284 - val_loss: 1.1891 - val_accuracy: 0.6975\n",
      "Epoch 18/25\n",
      "250/250 [==============================] - 38s 152ms/step - loss: 0.3639 - accuracy: 0.8338 - val_loss: 0.8039 - val_accuracy: 0.7660\n",
      "Epoch 19/25\n",
      "250/250 [==============================] - 37s 148ms/step - loss: 0.3572 - accuracy: 0.8385 - val_loss: 0.6887 - val_accuracy: 0.7665\n",
      "Epoch 20/25\n",
      "250/250 [==============================] - 37s 146ms/step - loss: 0.3482 - accuracy: 0.8468 - val_loss: 0.7053 - val_accuracy: 0.7610\n",
      "Epoch 21/25\n",
      "250/250 [==============================] - 37s 146ms/step - loss: 0.3395 - accuracy: 0.8505 - val_loss: 0.7468 - val_accuracy: 0.7770\n",
      "Epoch 22/25\n",
      "250/250 [==============================] - 37s 146ms/step - loss: 0.3297 - accuracy: 0.8576 - val_loss: 0.7778 - val_accuracy: 0.7730\n",
      "Epoch 23/25\n",
      "250/250 [==============================] - 37s 147ms/step - loss: 0.3176 - accuracy: 0.8597 - val_loss: 0.8538 - val_accuracy: 0.7755\n",
      "Epoch 24/25\n",
      "250/250 [==============================] - 38s 150ms/step - loss: 0.3112 - accuracy: 0.8640 - val_loss: 0.9375 - val_accuracy: 0.7485\n",
      "Epoch 25/25\n",
      "250/250 [==============================] - 38s 150ms/step - loss: 0.3032 - accuracy: 0.8680 - val_loss: 0.8329 - val_accuracy: 0.7755\n"
     ]
    },
    {
     "data": {
      "text/plain": [
       "<keras.src.callbacks.History at 0x1c986e5a5e0>"
      ]
     },
     "execution_count": 18,
     "metadata": {},
     "output_type": "execute_result"
    }
   ],
   "source": [
    "cnn.fit(x = training_set, validation_data = test_set, epochs = 25)"
   ]
  },
  {
   "cell_type": "markdown",
   "metadata": {
    "id": "3mXLdWBH96Dl"
   },
   "source": [
    "# Part 4 - Making a single prediction"
   ]
  },
  {
   "cell_type": "code",
   "execution_count": 33,
   "metadata": {
    "id": "xUPc3GHO9-1U"
   },
   "outputs": [
    {
     "name": "stdout",
     "output_type": "stream",
     "text": [
      "1/1 [==============================] - 0s 23ms/step\n",
      "dog\n"
     ]
    }
   ],
   "source": [
    "import numpy as np\n",
    "from keras.preprocessing import image\n",
    "test_image = image.load_img('d:/dataset/cnn/single_prediction/cat_or_dog_5.jpg', target_size = (64, 64))\n",
    "test_image = image.img_to_array(test_image)\n",
    "test_image = np.expand_dims(test_image, axis = 0)\n",
    "result = cnn.predict(test_image)\n",
    "training_set.class_indices\n",
    "if result[0][0] == 1:\n",
    "  prediction = 'dog'\n",
    "else:\n",
    "  prediction = 'cat'\n",
    "\n",
    "print(prediction)"
   ]
  },
  {
   "cell_type": "code",
   "execution_count": null,
   "metadata": {},
   "outputs": [],
   "source": []
  },
  {
   "cell_type": "code",
   "execution_count": null,
   "metadata": {},
   "outputs": [],
   "source": []
  }
 ],
 "metadata": {
  "colab": {
   "provenance": [],
   "toc_visible": true
  },
  "kernelspec": {
   "display_name": "Python 3 (ipykernel)",
   "language": "python",
   "name": "python3"
  },
  "language_info": {
   "codemirror_mode": {
    "name": "ipython",
    "version": 3
   },
   "file_extension": ".py",
   "mimetype": "text/x-python",
   "name": "python",
   "nbconvert_exporter": "python",
   "pygments_lexer": "ipython3",
   "version": "3.9.13"
  }
 },
 "nbformat": 4,
 "nbformat_minor": 1
}
