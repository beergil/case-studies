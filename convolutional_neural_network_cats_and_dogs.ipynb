{
  "nbformat": 4,
  "nbformat_minor": 0,
  "metadata": {
    "colab": {
      "provenance": [],
      "toc_visible": true
    },
    "kernelspec": {
      "name": "python3",
      "display_name": "Python 3"
    },
    "language_info": {
      "name": "python"
    }
  },
  "cells": [
    {
      "cell_type": "markdown",
      "source": [
        "# Convolutional Neural Network"
      ],
      "metadata": {
        "id": "zHTKYX8mjI3f"
      }
    },
    {
      "cell_type": "markdown",
      "source": [
        "## Importing the libraries"
      ],
      "metadata": {
        "id": "8Tkmvw-Xko1Z"
      }
    },
    {
      "cell_type": "code",
      "source": [
        "import tensorflow as tf\n",
        "from keras.preprocessing.image import ImageDataGenerator"
      ],
      "metadata": {
        "id": "prtxbou0kwt-"
      },
      "execution_count": null,
      "outputs": []
    },
    {
      "cell_type": "code",
      "source": [
        "tf.__version__"
      ],
      "metadata": {
        "colab": {
          "base_uri": "https://localhost:8080/",
          "height": 36
        },
        "id": "8Yhe3cBRk5MU",
        "outputId": "ef0cc44b-57f0-4af5-fcab-6ff671831e9f"
      },
      "execution_count": null,
      "outputs": [
        {
          "output_type": "execute_result",
          "data": {
            "text/plain": [
              "'2.13.0'"
            ],
            "application/vnd.google.colaboratory.intrinsic+json": {
              "type": "string"
            }
          },
          "metadata": {},
          "execution_count": 2
        }
      ]
    },
    {
      "cell_type": "markdown",
      "source": [
        "# Part 1 - Data Processing\n"
      ],
      "metadata": {
        "id": "15fy8BEgk9Gh"
      }
    },
    {
      "cell_type": "markdown",
      "source": [
        "## Preprocessing the Training set"
      ],
      "metadata": {
        "id": "BF2lx3KI0n2N"
      }
    },
    {
      "cell_type": "code",
      "source": [
        "train_datagen= ImageDataGenerator(\n",
        "    rescale =1./522,\n",
        "    shear_range = 0.2,\n",
        "    zoom_range=0.2,\n",
        "    horizontal_flip=True)\n",
        "training_set = train_datagen.flow_from_directory(\n",
        "    'd:/dataset/cnn/training_set',\n",
        "    target_size=(64,64),\n",
        "    batch_size = 32,\n",
        "    class_mode='binary')"
      ],
      "metadata": {
        "id": "UlV0sFVWl_0S"
      },
      "execution_count": null,
      "outputs": []
    },
    {
      "cell_type": "markdown",
      "source": [
        "## Preprocessing the Test set"
      ],
      "metadata": {
        "id": "JRjI2uCI0O81"
      }
    },
    {
      "cell_type": "code",
      "source": [
        "test_datagen = ImageDataGenerator(rescale=1./255)\n",
        "test_set = test_datagen.flow_from_directory(\n",
        "    'd:/dataset/cnn/test_set',\n",
        "    target_size=(64,64),\n",
        "    batch_size = 32,\n",
        "    class_mode='binary'\n",
        ")\n"
      ],
      "metadata": {
        "id": "qLhe5okq00Ta"
      },
      "execution_count": null,
      "outputs": []
    },
    {
      "cell_type": "markdown",
      "source": [
        "# Part 2 - Building the CNN"
      ],
      "metadata": {
        "id": "KlI8xkza2hFD"
      }
    },
    {
      "cell_type": "markdown",
      "source": [
        "## Initialising the CNN"
      ],
      "metadata": {
        "id": "hZoOpVqR2kHd"
      }
    },
    {
      "cell_type": "code",
      "source": [
        "cnn = tf.keras.models.Sequential()\n"
      ],
      "metadata": {
        "id": "z13Dtp7i2o7V"
      },
      "execution_count": null,
      "outputs": []
    },
    {
      "cell_type": "markdown",
      "source": [
        "## Step  1 - Convolution"
      ],
      "metadata": {
        "id": "0T6Jy9Tu2v5r"
      }
    },
    {
      "cell_type": "code",
      "source": [
        "cnn.add(tf.keras.layers.Conv2d(filters=32, kernel_size=3, activation='relu', input_shape=[64,64, 3]))"
      ],
      "metadata": {
        "id": "tNYd05Dr20V3"
      },
      "execution_count": null,
      "outputs": []
    },
    {
      "cell_type": "markdown",
      "source": [
        "## Step 2 - Pooling"
      ],
      "metadata": {
        "id": "cJqzZ7z84a0Q"
      }
    },
    {
      "cell_type": "code",
      "source": [
        "cnn.add(tf.keras.layers.MaxPool2D(pool_size=2, strides=2))"
      ],
      "metadata": {
        "id": "M8JCARZh4c-y"
      },
      "execution_count": null,
      "outputs": []
    },
    {
      "cell_type": "markdown",
      "source": [
        "## Adding a second convolutional layer"
      ],
      "metadata": {
        "id": "lj-aJsM64gwt"
      }
    },
    {
      "cell_type": "code",
      "source": [
        "cnn.add(tf.keras.layers.Conv2d(filters=32, kernel_size=3, activation='relu'))\n",
        "cnn.add(tf.keras.layers.MaxPool2D(pool_size=2, strides=2))"
      ],
      "metadata": {
        "id": "3d1f_FES4lh8"
      },
      "execution_count": null,
      "outputs": []
    },
    {
      "cell_type": "markdown",
      "source": [
        "## Step 3 - Flattening"
      ],
      "metadata": {
        "id": "8kaaNLn67C0_"
      }
    },
    {
      "cell_type": "code",
      "source": [
        "cnn.add(tf.keras.layers.Flatten())"
      ],
      "metadata": {
        "id": "Nc_1PMDk7Gxn"
      },
      "execution_count": null,
      "outputs": []
    },
    {
      "cell_type": "markdown",
      "source": [
        "## Step 4 - Full Connection"
      ],
      "metadata": {
        "id": "itYZxE6W7Xnd"
      }
    },
    {
      "cell_type": "code",
      "source": [
        "cnn.add(tf.keras.Dense(units = 128, activation='relu'))"
      ],
      "metadata": {
        "id": "ERI2R69Y8au6"
      },
      "execution_count": null,
      "outputs": []
    },
    {
      "cell_type": "markdown",
      "source": [
        "## Step 5 - Output Layer"
      ],
      "metadata": {
        "id": "n4SjfXVF7YTi"
      }
    },
    {
      "cell_type": "code",
      "source": [
        "cnn.add(tf.keras.layers.Dense(units=1, activation='sigmoid'))"
      ],
      "metadata": {
        "id": "LcvcuL397hRx"
      },
      "execution_count": null,
      "outputs": []
    },
    {
      "cell_type": "markdown",
      "source": [
        "# Part 3"
      ],
      "metadata": {
        "id": "_xbs99aG7YdX"
      }
    },
    {
      "cell_type": "markdown",
      "source": [
        "## Compiling the CNN"
      ],
      "metadata": {
        "id": "d5M3CbbD9udb"
      }
    },
    {
      "cell_type": "code",
      "source": [
        "cnn.compile(optimizer = 'adam', loss = 'binary_crossentropy', metrics= ['accuracy'])"
      ],
      "metadata": {
        "id": "UJeCWQ4y9_1f"
      },
      "execution_count": null,
      "outputs": []
    },
    {
      "cell_type": "markdown",
      "source": [
        "## Training the CNN on the Training set and evaluating it on the Test set"
      ],
      "metadata": {
        "id": "tQ0xvski9zKU"
      }
    },
    {
      "cell_type": "code",
      "source": [
        "cnn.fit(x = training_set, validation_data = test_set, epochs = 25)"
      ],
      "metadata": {
        "id": "mUsxLHL5-bap"
      },
      "execution_count": null,
      "outputs": []
    },
    {
      "cell_type": "markdown",
      "source": [
        "# Part 4 - Making a single prediction"
      ],
      "metadata": {
        "id": "3mXLdWBH96Dl"
      }
    },
    {
      "cell_type": "code",
      "source": [
        "import numpy as np\n",
        "from keras.preprocessing import image\n",
        "test_image = image.load_img('d:/dataset/cnn/single_prediction/cat_or_dog_1.jpg', target_size = (64, 64))\n",
        "test_image = image.img_to_array(test_image)\n",
        "test_image = np.expand_dims(test_image, axis = 0)\n",
        "result = cnn.predict(test_image)\n",
        "training_set.class_indices\n",
        "if result[0][0] == 1:\n",
        "  prediction = 'dog'\n",
        "else\n",
        "  prediction = 'cat'\n",
        "\n",
        "print(prediction)"
      ],
      "metadata": {
        "id": "xUPc3GHO9-1U"
      },
      "execution_count": null,
      "outputs": []
    }
  ]
}