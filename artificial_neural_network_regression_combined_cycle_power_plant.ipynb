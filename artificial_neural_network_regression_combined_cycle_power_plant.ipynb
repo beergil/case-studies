{
  "nbformat": 4,
  "nbformat_minor": 0,
  "metadata": {
    "colab": {
      "provenance": [],
      "authorship_tag": "ABX9TyMvItTb7Gu8/GJJ4kpKvOei",
      "include_colab_link": true
    },
    "kernelspec": {
      "name": "python3",
      "display_name": "Python 3"
    },
    "language_info": {
      "name": "python"
    }
  },
  "cells": [
    {
      "cell_type": "markdown",
      "metadata": {
        "id": "view-in-github",
        "colab_type": "text"
      },
      "source": [
        "<a href=\"https://colab.research.google.com/github/beergil/case-studies/blob/main/artificial_neural_network_regression_combined_cycle_power_plant.ipynb\" target=\"_parent\"><img src=\"https://colab.research.google.com/assets/colab-badge.svg\" alt=\"Open In Colab\"/></a>"
      ]
    },
    {
      "cell_type": "markdown",
      "source": [
        "## Importing libraries"
      ],
      "metadata": {
        "id": "4GRwNLLiWo79"
      }
    },
    {
      "cell_type": "code",
      "source": [
        "import numpy as np\n",
        "import pandas as pd\n",
        "import tensorflow as tf\n",
        "import matplotlib.pyplot as plt\n",
        "\n"
      ],
      "metadata": {
        "id": "yFVcw0tAWw3d"
      },
      "execution_count": 15,
      "outputs": []
    },
    {
      "cell_type": "code",
      "source": [
        "tf.__version__"
      ],
      "metadata": {
        "colab": {
          "base_uri": "https://localhost:8080/",
          "height": 36
        },
        "id": "0jrK1hmVW512",
        "outputId": "4c7e2ce7-1f71-42c9-a97b-5fb168ba2a54"
      },
      "execution_count": 2,
      "outputs": [
        {
          "output_type": "execute_result",
          "data": {
            "text/plain": [
              "'2.13.0'"
            ],
            "application/vnd.google.colaboratory.intrinsic+json": {
              "type": "string"
            }
          },
          "metadata": {},
          "execution_count": 2
        }
      ]
    },
    {
      "cell_type": "markdown",
      "source": [
        "# Part 1 - Data Preprocessing\n"
      ],
      "metadata": {
        "id": "Js75tTzzBG3b"
      }
    },
    {
      "cell_type": "code",
      "source": [
        "dataset = pd.read_excel('Folds5x2_pp.xlsx')\n",
        "X = dataset.iloc[:, : -1].values\n",
        "y = dataset.iloc[:,-1].values\n"
      ],
      "metadata": {
        "id": "Ac5ECqT9XB_b"
      },
      "execution_count": 3,
      "outputs": []
    },
    {
      "cell_type": "markdown",
      "source": [
        "## Importing the dataset"
      ],
      "metadata": {
        "id": "5WTd24F2UA8y"
      }
    },
    {
      "cell_type": "code",
      "source": [
        "from sklearn.model_selection import train_test_split\n",
        "X_train, X_test, y_train, y_test = train_test_split(X, y, test_size = 0.2, random_state = 0)"
      ],
      "metadata": {
        "id": "cNoiyhA2Xq5q"
      },
      "execution_count": 4,
      "outputs": []
    },
    {
      "cell_type": "markdown",
      "source": [
        "## Splitting the dataset into Training set and Test set"
      ],
      "metadata": {
        "id": "QuePXjiqUKeK"
      }
    },
    {
      "cell_type": "code",
      "source": [
        "from sklearn.model_selection import train_test_split\n",
        "X_train, X_test, y_train, t_test = train_test_split(X, y, test_size = 0.2, random_state = 0)"
      ],
      "metadata": {
        "id": "2QkRSgczjT5J"
      },
      "execution_count": 5,
      "outputs": []
    },
    {
      "cell_type": "markdown",
      "source": [
        "# Part 2 - Building the ANN"
      ],
      "metadata": {
        "id": "deBH68jwUsqG"
      }
    },
    {
      "cell_type": "markdown",
      "source": [
        "## Initializing the ANN"
      ],
      "metadata": {
        "id": "IinhEJ8sU3C1"
      }
    },
    {
      "cell_type": "code",
      "source": [
        "ann = tf.keras.models.Sequential()"
      ],
      "metadata": {
        "id": "5erPnr-kjJaD"
      },
      "execution_count": 6,
      "outputs": []
    },
    {
      "cell_type": "markdown",
      "source": [
        "## Adding the input layer and the first hidden layer"
      ],
      "metadata": {
        "id": "O3-VXuY5mZnz"
      }
    },
    {
      "cell_type": "code",
      "source": [
        "ann.add(tf.keras.layers.Dense(units = 6, activation= 'relu' ))"
      ],
      "metadata": {
        "id": "kkEatq4cmo5z"
      },
      "execution_count": 7,
      "outputs": []
    },
    {
      "cell_type": "markdown",
      "source": [
        "## Adding the second hidden layer"
      ],
      "metadata": {
        "id": "c7xQe6KZmd8D"
      }
    },
    {
      "cell_type": "code",
      "source": [
        "ann.add(tf.keras.layers.Dense(units = 6, activation= 'relu' ))"
      ],
      "metadata": {
        "id": "EFYoHPzbmpX6"
      },
      "execution_count": 8,
      "outputs": []
    },
    {
      "cell_type": "markdown",
      "source": [
        "## Adding the output layer"
      ],
      "metadata": {
        "id": "XdcMh0iYmkrb"
      }
    },
    {
      "cell_type": "code",
      "source": [
        "ann.add(tf.keras.layers.Dense(units = 1)) # no activation function for regression analysis"
      ],
      "metadata": {
        "id": "gNM4gNf5mqAK"
      },
      "execution_count": 9,
      "outputs": []
    },
    {
      "cell_type": "markdown",
      "source": [
        "# Part 3 - Training the ANN"
      ],
      "metadata": {
        "id": "Hxj_3FwUmn1D"
      }
    },
    {
      "cell_type": "markdown",
      "source": [
        "## Compiling the ANN"
      ],
      "metadata": {
        "id": "0YJj-7bSoFd_"
      }
    },
    {
      "cell_type": "code",
      "source": [
        "ann.compile(optimizer = 'adam', loss = 'mse', metrics = 'mse')"
      ],
      "metadata": {
        "id": "Bbm3HiKKqaWL"
      },
      "execution_count": 10,
      "outputs": []
    },
    {
      "cell_type": "markdown",
      "source": [
        "## Training the ANN model on the Training set"
      ],
      "metadata": {
        "id": "d9GkJNugoNS3"
      }
    },
    {
      "cell_type": "code",
      "source": [
        "# Fit the model\n",
        "history = ann.fit(X_train, y_train, batch_size = 32, epochs= 100)"
      ],
      "metadata": {
        "colab": {
          "base_uri": "https://localhost:8080/"
        },
        "id": "NB9m6mRVq1ZH",
        "outputId": "d60dc259-bcc1-49fd-c2de-e390f7342fc1"
      },
      "execution_count": 11,
      "outputs": [
        {
          "output_type": "stream",
          "name": "stdout",
          "text": [
            "Epoch 1/100\n",
            "240/240 [==============================] - 3s 3ms/step - loss: 90726.3281 - mse: 90726.3281\n",
            "Epoch 2/100\n",
            "240/240 [==============================] - 1s 3ms/step - loss: 162.7496 - mse: 162.7496\n",
            "Epoch 3/100\n",
            "240/240 [==============================] - 1s 5ms/step - loss: 158.9919 - mse: 158.9919\n",
            "Epoch 4/100\n",
            "240/240 [==============================] - 1s 4ms/step - loss: 155.2928 - mse: 155.2928\n",
            "Epoch 5/100\n",
            "240/240 [==============================] - 1s 4ms/step - loss: 150.3540 - mse: 150.3540\n",
            "Epoch 6/100\n",
            "240/240 [==============================] - 1s 3ms/step - loss: 144.9677 - mse: 144.9677\n",
            "Epoch 7/100\n",
            "240/240 [==============================] - 1s 4ms/step - loss: 139.5339 - mse: 139.5339\n",
            "Epoch 8/100\n",
            "240/240 [==============================] - 1s 2ms/step - loss: 133.7874 - mse: 133.7874\n",
            "Epoch 9/100\n",
            "240/240 [==============================] - 1s 4ms/step - loss: 127.8530 - mse: 127.8530\n",
            "Epoch 10/100\n",
            "240/240 [==============================] - 1s 3ms/step - loss: 122.2548 - mse: 122.2548\n",
            "Epoch 11/100\n",
            "240/240 [==============================] - 1s 5ms/step - loss: 116.4314 - mse: 116.4314\n",
            "Epoch 12/100\n",
            "240/240 [==============================] - 2s 7ms/step - loss: 111.4347 - mse: 111.4347\n",
            "Epoch 13/100\n",
            "240/240 [==============================] - 1s 5ms/step - loss: 106.4058 - mse: 106.4058\n",
            "Epoch 14/100\n",
            "240/240 [==============================] - 1s 4ms/step - loss: 101.5077 - mse: 101.5077\n",
            "Epoch 15/100\n",
            "240/240 [==============================] - 1s 4ms/step - loss: 96.9301 - mse: 96.9301\n",
            "Epoch 16/100\n",
            "240/240 [==============================] - 1s 4ms/step - loss: 92.6333 - mse: 92.6333\n",
            "Epoch 17/100\n",
            "240/240 [==============================] - 1s 4ms/step - loss: 88.9171 - mse: 88.9171\n",
            "Epoch 18/100\n",
            "240/240 [==============================] - 1s 3ms/step - loss: 85.2886 - mse: 85.2886\n",
            "Epoch 19/100\n",
            "240/240 [==============================] - 0s 2ms/step - loss: 81.9734 - mse: 81.9734\n",
            "Epoch 20/100\n",
            "240/240 [==============================] - 0s 2ms/step - loss: 78.4403 - mse: 78.4403\n",
            "Epoch 21/100\n",
            "240/240 [==============================] - 0s 2ms/step - loss: 75.6366 - mse: 75.6366\n",
            "Epoch 22/100\n",
            "240/240 [==============================] - 0s 2ms/step - loss: 72.3484 - mse: 72.3484\n",
            "Epoch 23/100\n",
            "240/240 [==============================] - 0s 2ms/step - loss: 69.8536 - mse: 69.8536\n",
            "Epoch 24/100\n",
            "240/240 [==============================] - 0s 2ms/step - loss: 67.0567 - mse: 67.0567\n",
            "Epoch 25/100\n",
            "240/240 [==============================] - 0s 2ms/step - loss: 63.6973 - mse: 63.6973\n",
            "Epoch 26/100\n",
            "240/240 [==============================] - 0s 2ms/step - loss: 60.7160 - mse: 60.7160\n",
            "Epoch 27/100\n",
            "240/240 [==============================] - 0s 2ms/step - loss: 58.2695 - mse: 58.2695\n",
            "Epoch 28/100\n",
            "240/240 [==============================] - 0s 2ms/step - loss: 55.3296 - mse: 55.3296\n",
            "Epoch 29/100\n",
            "240/240 [==============================] - 0s 2ms/step - loss: 52.8119 - mse: 52.8119\n",
            "Epoch 30/100\n",
            "240/240 [==============================] - 1s 2ms/step - loss: 50.7331 - mse: 50.7331\n",
            "Epoch 31/100\n",
            "240/240 [==============================] - 1s 3ms/step - loss: 48.6969 - mse: 48.6969\n",
            "Epoch 32/100\n",
            "240/240 [==============================] - 1s 3ms/step - loss: 44.8440 - mse: 44.8440\n",
            "Epoch 33/100\n",
            "240/240 [==============================] - 1s 3ms/step - loss: 43.4653 - mse: 43.4653\n",
            "Epoch 34/100\n",
            "240/240 [==============================] - 1s 2ms/step - loss: 41.7577 - mse: 41.7577\n",
            "Epoch 35/100\n",
            "240/240 [==============================] - 0s 2ms/step - loss: 39.1022 - mse: 39.1022\n",
            "Epoch 36/100\n",
            "240/240 [==============================] - 0s 2ms/step - loss: 37.5820 - mse: 37.5820\n",
            "Epoch 37/100\n",
            "240/240 [==============================] - 0s 2ms/step - loss: 35.9178 - mse: 35.9178\n",
            "Epoch 38/100\n",
            "240/240 [==============================] - 0s 2ms/step - loss: 34.0786 - mse: 34.0786\n",
            "Epoch 39/100\n",
            "240/240 [==============================] - 0s 2ms/step - loss: 33.5838 - mse: 33.5838\n",
            "Epoch 40/100\n",
            "240/240 [==============================] - 0s 2ms/step - loss: 33.0963 - mse: 33.0963\n",
            "Epoch 41/100\n",
            "240/240 [==============================] - 0s 2ms/step - loss: 31.7381 - mse: 31.7381\n",
            "Epoch 42/100\n",
            "240/240 [==============================] - 0s 2ms/step - loss: 31.3105 - mse: 31.3105\n",
            "Epoch 43/100\n",
            "240/240 [==============================] - 0s 2ms/step - loss: 30.8633 - mse: 30.8633\n",
            "Epoch 44/100\n",
            "240/240 [==============================] - 0s 2ms/step - loss: 29.9547 - mse: 29.9547\n",
            "Epoch 45/100\n",
            "240/240 [==============================] - 0s 2ms/step - loss: 29.1659 - mse: 29.1659\n",
            "Epoch 46/100\n",
            "240/240 [==============================] - 0s 2ms/step - loss: 28.7204 - mse: 28.7204\n",
            "Epoch 47/100\n",
            "240/240 [==============================] - 0s 2ms/step - loss: 29.9731 - mse: 29.9731\n",
            "Epoch 48/100\n",
            "240/240 [==============================] - 0s 2ms/step - loss: 28.8356 - mse: 28.8356\n",
            "Epoch 49/100\n",
            "240/240 [==============================] - 0s 2ms/step - loss: 28.0444 - mse: 28.0444\n",
            "Epoch 50/100\n",
            "240/240 [==============================] - 0s 2ms/step - loss: 28.0333 - mse: 28.0333\n",
            "Epoch 51/100\n",
            "240/240 [==============================] - 1s 2ms/step - loss: 28.1462 - mse: 28.1462\n",
            "Epoch 52/100\n",
            "240/240 [==============================] - 0s 2ms/step - loss: 27.5771 - mse: 27.5771\n",
            "Epoch 53/100\n",
            "240/240 [==============================] - 0s 2ms/step - loss: 28.4599 - mse: 28.4599\n",
            "Epoch 54/100\n",
            "240/240 [==============================] - 0s 2ms/step - loss: 27.0447 - mse: 27.0447\n",
            "Epoch 55/100\n",
            "240/240 [==============================] - 0s 2ms/step - loss: 27.4803 - mse: 27.4803\n",
            "Epoch 56/100\n",
            "240/240 [==============================] - 0s 2ms/step - loss: 26.9915 - mse: 26.9915\n",
            "Epoch 57/100\n",
            "240/240 [==============================] - 0s 2ms/step - loss: 27.4670 - mse: 27.4670\n",
            "Epoch 58/100\n",
            "240/240 [==============================] - 1s 2ms/step - loss: 28.1747 - mse: 28.1747\n",
            "Epoch 59/100\n",
            "240/240 [==============================] - 1s 3ms/step - loss: 27.6240 - mse: 27.6240\n",
            "Epoch 60/100\n",
            "240/240 [==============================] - 1s 3ms/step - loss: 27.8248 - mse: 27.8248\n",
            "Epoch 61/100\n",
            "240/240 [==============================] - 1s 3ms/step - loss: 28.0358 - mse: 28.0358\n",
            "Epoch 62/100\n",
            "240/240 [==============================] - 1s 3ms/step - loss: 27.6786 - mse: 27.6786\n",
            "Epoch 63/100\n",
            "240/240 [==============================] - 0s 2ms/step - loss: 27.3269 - mse: 27.3269\n",
            "Epoch 64/100\n",
            "240/240 [==============================] - 0s 2ms/step - loss: 27.0171 - mse: 27.0171\n",
            "Epoch 65/100\n",
            "240/240 [==============================] - 0s 2ms/step - loss: 27.3434 - mse: 27.3434\n",
            "Epoch 66/100\n",
            "240/240 [==============================] - 0s 2ms/step - loss: 27.8406 - mse: 27.8406\n",
            "Epoch 67/100\n",
            "240/240 [==============================] - 0s 2ms/step - loss: 28.5907 - mse: 28.5907\n",
            "Epoch 68/100\n",
            "240/240 [==============================] - 0s 2ms/step - loss: 27.0393 - mse: 27.0393\n",
            "Epoch 69/100\n",
            "240/240 [==============================] - 0s 2ms/step - loss: 27.4798 - mse: 27.4798\n",
            "Epoch 70/100\n",
            "240/240 [==============================] - 0s 2ms/step - loss: 28.2452 - mse: 28.2452\n",
            "Epoch 71/100\n",
            "240/240 [==============================] - 0s 2ms/step - loss: 27.5612 - mse: 27.5612\n",
            "Epoch 72/100\n",
            "240/240 [==============================] - 0s 2ms/step - loss: 27.6757 - mse: 27.6757\n",
            "Epoch 73/100\n",
            "240/240 [==============================] - 0s 2ms/step - loss: 26.8569 - mse: 26.8569\n",
            "Epoch 74/100\n",
            "240/240 [==============================] - 0s 2ms/step - loss: 28.1665 - mse: 28.1665\n",
            "Epoch 75/100\n",
            "240/240 [==============================] - 0s 2ms/step - loss: 27.6093 - mse: 27.6093\n",
            "Epoch 76/100\n",
            "240/240 [==============================] - 0s 2ms/step - loss: 27.9215 - mse: 27.9215\n",
            "Epoch 77/100\n",
            "240/240 [==============================] - 0s 2ms/step - loss: 27.6576 - mse: 27.6576\n",
            "Epoch 78/100\n",
            "240/240 [==============================] - 0s 2ms/step - loss: 27.6953 - mse: 27.6953\n",
            "Epoch 79/100\n",
            "240/240 [==============================] - 0s 2ms/step - loss: 27.0393 - mse: 27.0393\n",
            "Epoch 80/100\n",
            "240/240 [==============================] - 0s 2ms/step - loss: 27.1908 - mse: 27.1908\n",
            "Epoch 81/100\n",
            "240/240 [==============================] - 0s 2ms/step - loss: 27.6010 - mse: 27.6010\n",
            "Epoch 82/100\n",
            "240/240 [==============================] - 0s 2ms/step - loss: 27.1908 - mse: 27.1908\n",
            "Epoch 83/100\n",
            "240/240 [==============================] - 0s 2ms/step - loss: 27.2507 - mse: 27.2507\n",
            "Epoch 84/100\n",
            "240/240 [==============================] - 0s 2ms/step - loss: 27.9176 - mse: 27.9176\n",
            "Epoch 85/100\n",
            "240/240 [==============================] - 0s 2ms/step - loss: 27.1008 - mse: 27.1008\n",
            "Epoch 86/100\n",
            "240/240 [==============================] - 1s 2ms/step - loss: 27.3356 - mse: 27.3356\n",
            "Epoch 87/100\n",
            "240/240 [==============================] - 1s 3ms/step - loss: 27.7441 - mse: 27.7441\n",
            "Epoch 88/100\n",
            "240/240 [==============================] - 1s 2ms/step - loss: 28.0985 - mse: 28.0985\n",
            "Epoch 89/100\n",
            "240/240 [==============================] - 1s 2ms/step - loss: 27.0433 - mse: 27.0433\n",
            "Epoch 90/100\n",
            "240/240 [==============================] - 1s 3ms/step - loss: 27.7820 - mse: 27.7820\n",
            "Epoch 91/100\n",
            "240/240 [==============================] - 0s 2ms/step - loss: 27.1203 - mse: 27.1203\n",
            "Epoch 92/100\n",
            "240/240 [==============================] - 0s 2ms/step - loss: 27.3616 - mse: 27.3616\n",
            "Epoch 93/100\n",
            "240/240 [==============================] - 0s 2ms/step - loss: 27.6484 - mse: 27.6484\n",
            "Epoch 94/100\n",
            "240/240 [==============================] - 0s 2ms/step - loss: 26.5020 - mse: 26.5020\n",
            "Epoch 95/100\n",
            "240/240 [==============================] - 0s 2ms/step - loss: 27.5925 - mse: 27.5925\n",
            "Epoch 96/100\n",
            "240/240 [==============================] - 0s 2ms/step - loss: 28.8710 - mse: 28.8710\n",
            "Epoch 97/100\n",
            "240/240 [==============================] - 0s 2ms/step - loss: 27.1323 - mse: 27.1323\n",
            "Epoch 98/100\n",
            "240/240 [==============================] - 0s 2ms/step - loss: 27.4833 - mse: 27.4833\n",
            "Epoch 99/100\n",
            "240/240 [==============================] - 0s 2ms/step - loss: 27.1499 - mse: 27.1499\n",
            "Epoch 100/100\n",
            "240/240 [==============================] - 0s 2ms/step - loss: 28.2017 - mse: 28.2017\n"
          ]
        }
      ]
    },
    {
      "cell_type": "markdown",
      "source": [
        "## Model Evaluation"
      ],
      "metadata": {
        "id": "q9QWxN754clf"
      }
    },
    {
      "cell_type": "code",
      "source": [
        "ann.evaluate(X_test, y_test)"
      ],
      "metadata": {
        "colab": {
          "base_uri": "https://localhost:8080/"
        },
        "id": "zLhVGah74gA7",
        "outputId": "f4f6747f-59a5-44d9-f62a-6dd5171fd7bf"
      },
      "execution_count": 12,
      "outputs": [
        {
          "output_type": "stream",
          "name": "stdout",
          "text": [
            "60/60 [==============================] - 0s 1ms/step - loss: 25.7217 - mse: 25.7217\n"
          ]
        },
        {
          "output_type": "execute_result",
          "data": {
            "text/plain": [
              "[25.72169303894043, 25.72169303894043]"
            ]
          },
          "metadata": {},
          "execution_count": 12
        }
      ]
    },
    {
      "cell_type": "markdown",
      "source": [
        "## Plotting the loss curve or training curve"
      ],
      "metadata": {
        "id": "HONfjL6z4w8W"
      }
    },
    {
      "cell_type": "code",
      "source": [
        "pd.DataFrame(history.history).plot()\n",
        "plt.title(\"Loss/Training Curve\")\n",
        "plt.ylabel(\"loss\")\n",
        "plt.xlabel(\"epochs\")"
      ],
      "metadata": {
        "colab": {
          "base_uri": "https://localhost:8080/",
          "height": 489
        },
        "id": "HQK17Jo-5Wbc",
        "outputId": "2a0a5cd0-e349-4508-f0fd-98a6dd857a49"
      },
      "execution_count": 20,
      "outputs": [
        {
          "output_type": "execute_result",
          "data": {
            "text/plain": [
              "Text(0.5, 0, 'epochs')"
            ]
          },
          "metadata": {},
          "execution_count": 20
        },
        {
          "output_type": "display_data",
          "data": {
            "text/plain": [
              "<Figure size 640x480 with 1 Axes>"
            ],
            "image/png": "[encoded data removed]"
          },
          "metadata": {}
        }
      ]
    },
    {
      "cell_type": "markdown",
      "source": [
        "## Predicting the results of the Test set"
      ],
      "metadata": {
        "id": "rip-yo_npcOA"
      }
    },
    {
      "cell_type": "code",
      "source": [
        "y_pred = ann.predict(X_test)\n",
        "np.set_printoptions(precision=2)\n",
        "print(np.concatenate((y_pred.reshape(len(y_pred),1), y_test.reshape(len(y_test),1)),1))\n"
      ],
      "metadata": {
        "colab": {
          "base_uri": "https://localhost:8080/"
        },
        "id": "Dz-9-lE5pfqi",
        "outputId": "0d40c8c4-9faf-443e-b69c-565ef048ed2e"
      },
      "execution_count": 17,
      "outputs": [
        {
          "output_type": "stream",
          "name": "stdout",
          "text": [
            "60/60 [==============================] - 0s 1ms/step\n",
            "[[430.2  431.23]\n",
            " [461.26 460.01]\n",
            " [464.78 461.14]\n",
            " ...\n",
            " [472.02 473.26]\n",
            " [438.76 438.  ]\n",
            " [458.01 463.28]]\n"
          ]
        }
      ]
    },
    {
      "cell_type": "code",
      "source": [
        "ann.summary()"
      ],
      "metadata": {
        "colab": {
          "base_uri": "https://localhost:8080/"
        },
        "id": "KsPq-OMGGIP-",
        "outputId": "0e38cea5-aa11-4295-90f1-27cfe742c591"
      },
      "execution_count": 19,
      "outputs": [
        {
          "output_type": "stream",
          "name": "stdout",
          "text": [
            "Model: \"sequential\"\n",
            "_________________________________________________________________\n",
            " Layer (type)                Output Shape              Param #   \n",
            "=================================================================\n",
            " dense (Dense)               (None, 6)                 30        \n",
            "                                                                 \n",
            " dense_1 (Dense)             (None, 6)                 42        \n",
            "                                                                 \n",
            " dense_2 (Dense)             (None, 1)                 7         \n",
            "                                                                 \n",
            "=================================================================\n",
            "Total params: 79 (316.00 Byte)\n",
            "Trainable params: 79 (316.00 Byte)\n",
            "Non-trainable params: 0 (0.00 Byte)\n",
            "_________________________________________________________________\n"
          ]
        }
      ]
    },
    {
      "cell_type": "code",
      "source": [],
      "metadata": {
        "id": "qFkG_xz8GJ7q"
      },
      "execution_count": null,
      "outputs": []
    }
  ]
}